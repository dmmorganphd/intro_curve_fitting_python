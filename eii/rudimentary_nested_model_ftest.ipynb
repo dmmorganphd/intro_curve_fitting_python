{
 "cells": [
  {
   "cell_type": "code",
   "execution_count": 1,
   "id": "65ffede3-b191-4aaa-bae3-4ee193f26d25",
   "metadata": {},
   "outputs": [],
   "source": [
    "import numpy as np\n",
    "import matplotlib.pyplot as plt\n",
    "from scipy.optimize import curve_fit\n",
    "import scipy.stats as stats\n",
    "\n",
    "\n",
    "# generate full model data\n",
    "def fmodel(x, m, b):\n",
    "    return m*x+b\n",
    "\n",
    "# generate reduced model\n",
    "def rmodel(x, b):\n",
    "    return b\n",
    "\n",
    "# generate data from the full model\n",
    "x=np.linspace(0, 2, 25)\n",
    "y=fmodel(x, 0.001, 0.9)\n",
    "\n",
    "# instantiate a random number generator\n",
    "rng = np.random.default_rng()\n",
    "y += rng.normal(0, (max(y)-min(y)), 25)\n",
    "\n",
    "# fit to the full model\n",
    "fpopt, fpcov = curve_fit(fmodel, x, y)\n",
    "# fit to the reduced model\n",
    "rpopt, rpcov = curve_fit(rmodel, x, y)\n",
    "\n",
    "# compute full model ss residuals \n",
    "resfull = y - fmodel(x, *fpopt)\n",
    "# compute reduced ss residuals\n",
    "resred = y - rmodel(x, *rpopt)"
   ]
  },
  {
   "cell_type": "code",
   "execution_count": 2,
   "id": "0c535633-85ae-4d91-b284-823b0fb63f01",
   "metadata": {},
   "outputs": [
    {
     "data": {
      "image/png": "[encoded data removed]",
      "text/plain": [
       "<Figure size 640x480 with 1 Axes>"
      ]
     },
     "metadata": {},
     "output_type": "display_data"
    }
   ],
   "source": [
    "plt.scatter(x,y)\n",
    "plt.show()"
   ]
  },
  {
   "cell_type": "code",
   "execution_count": 5,
   "id": "6ddfbfbe-e970-4709-b9d5-6fb172be9e86",
   "metadata": {},
   "outputs": [],
   "source": [
    "def ftest(resred, resfull, dofred, doffull):\n",
    "    if not len(resred) == len(resfull):\n",
    "        return 'the lengths of the residuals arrays must be the same.'\n",
    "        \n",
    "    else:\n",
    "        ssered=np.sum(np.square(resred))\n",
    "        ssefull=np.sum(np.square(resfull))\n",
    "        N=len(resred)\n",
    "        num = ((ssered-ssefull)/(dofred-doffull))\n",
    "        denom = ((ssefull)/(doffull))\n",
    "        f = num/denom\n",
    "        p = stats.f.cdf(f, dofred-doffull, doffull)\n",
    "        return f, p\n",
    "\n",
    "# dofred\n",
    "# number of degrees of freedom in the residuals data set for the \n",
    "# reduced model: \n",
    "# N-(number of parameters in reduced model)\n",
    "dofred = -1 + len(resred)\n",
    "# doffull\n",
    "# similarly definied\n",
    "doffull = -2 + len(resfull)\n",
    "\n",
    "ftest(resred, resfull, dofred, doffull)"
   ]
  },
  {
   "cell_type": "code",
   "execution_count": 6,
   "id": "469f250e-ce87-46a9-967b-3ded89d96dd5",
   "metadata": {},
   "outputs": [
    {
     "data": {
      "text/plain": [
       "(np.float64(2.80698345679905), np.float64(0.8926012228846352))"
      ]
     },
     "execution_count": 6,
     "metadata": {},
     "output_type": "execute_result"
    }
   ],
   "source": []
  },
  {
   "cell_type": "code",
   "execution_count": null,
   "id": "281e3604-49c3-4a6c-bc38-32dc0bf38110",
   "metadata": {},
   "outputs": [],
   "source": []
  }
 ],
 "metadata": {
  "kernelspec": {
   "display_name": "Python 3 (ipykernel)",
   "language": "python",
   "name": "python3"
  },
  "language_info": {
   "codemirror_mode": {
    "name": "ipython",
    "version": 3
   },
   "file_extension": ".py",
   "mimetype": "text/x-python",
   "name": "python",
   "nbconvert_exporter": "python",
   "pygments_lexer": "ipython3",
   "version": "3.12.3"
  }
 },
 "nbformat": 4,
 "nbformat_minor": 5
}
