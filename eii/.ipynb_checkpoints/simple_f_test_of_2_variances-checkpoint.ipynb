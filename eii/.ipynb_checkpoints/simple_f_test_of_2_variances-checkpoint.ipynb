{
 "cells": [
  {
   "cell_type": "code",
   "execution_count": 1,
   "id": "b52bafe8-8322-4bb8-b823-f0650d4764a9",
   "metadata": {},
   "outputs": [
    {
     "name": "stdout",
     "output_type": "stream",
     "text": [
      "Degree of freedom 1: 24\n",
      "Degree of freedom 2: 19\n",
      "Variance 1: 0.12034099703178223\n",
      "Variance 2: 0.1006717122975382\n",
      "F-statistic: 1.1953804528139036\n",
      "p-value: 0.6508343196960544\n"
     ]
    }
   ],
   "source": [
    "import numpy as np\n",
    "import scipy.stats as stats\n",
    "\n",
    "# Create the data for two groups\n",
    "group1 = np.random.rand(25)\n",
    "group2 = np.random.rand(20)\n",
    "\n",
    "# Calculate the sample variances\n",
    "variance1 = np.var(group1, ddof=1)\n",
    "variance2 = np.var(group2, ddof=1)\n",
    "\n",
    "# Calculate the F-statistic\n",
    "f_value = variance1 / variance2\n",
    "\n",
    "# Calculate the degrees of freedom\n",
    "# b/c the mean consumes 1 degree of freedom\n",
    "df1 = len(group1) - 1\n",
    "df2 = len(group2) - 1\n",
    "\n",
    "# Calculate the p-value\n",
    "p_value = stats.f.cdf(f_value, df1, df2)\n",
    "\n",
    "# Print the results\n",
    "print('Degree of freedom 1:',df1)\n",
    "print('Degree of freedom 2:',df2)\n",
    "print('Variance 1:', variance1)\n",
    "print('Variance 2:', variance2)\n",
    "print(\"F-statistic:\", f_value)\n",
    "print(\"p-value:\", p_value)\n"
   ]
  },
  {
   "cell_type": "code",
   "execution_count": 2,
   "id": "e801b030-8379-4ab7-9240-43f577fffd5f",
   "metadata": {},
   "outputs": [
    {
     "name": "stdout",
     "output_type": "stream",
     "text": [
      "0.12034099703178222 0.1006717122975382\n"
     ]
    }
   ],
   "source": [
    "xbar1 = np.mean(group1)\n",
    "xbar2 = np.mean(group2)\n",
    "var1 = 1/(-1+len(group1))*(np.sum((group1-xbar1)**2)) # b/c the mean consumed 1 degree of freedom\n",
    "var2 = 1/(-1+len(group2))*(np.sum((group2-xbar2)**2))\n",
    "print(var1,var2)"
   ]
  },
  {
   "cell_type": "code",
   "execution_count": null,
   "id": "84dd1e51-bf56-4634-af96-35a338da236e",
   "metadata": {},
   "outputs": [],
   "source": []
  }
 ],
 "metadata": {
  "kernelspec": {
   "display_name": "Python 3 (ipykernel)",
   "language": "python",
   "name": "python3"
  },
  "language_info": {
   "codemirror_mode": {
    "name": "ipython",
    "version": 3
   },
   "file_extension": ".py",
   "mimetype": "text/x-python",
   "name": "python",
   "nbconvert_exporter": "python",
   "pygments_lexer": "ipython3",
   "version": "3.12.3"
  }
 },
 "nbformat": 4,
 "nbformat_minor": 5
}
