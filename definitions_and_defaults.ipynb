{
 "cells": [
  {
   "cell_type": "code",
   "execution_count": null,
   "id": "bce16c32-dd46-4d58-88c5-7f8ed3765ff0",
   "metadata": {},
   "outputs": [],
   "source": [
    "# functions\n",
    "\n",
    "def sl(x, m, b):\n",
    "    return m*x+b\n",
    "\n",
    "def rsqrd(residuals, y):\n",
    "    rsq = 1 - np.sum(np.square(residuals))/np.sum(np.square(y-np.mean(y)))\n",
    "    return rsq\n",
    "\n",
    "def genexpfunc(x, a, k, c):\n",
    "    return c+a*np.exp(k*x)\n",
    "\n",
    "def estk(x,y,n):\n",
    "    maxx=np.max(x)\n",
    "    estk = -n / maxx\n",
    "    return estk\n",
    "\n",
    "def csv2xy(fn):\n",
    "    x = []\n",
    "    y = []\n",
    "    inf = open(fn)\n",
    "    for line in inf:\n",
    "        line = line.rstrip()\n",
    "        la = line.split(',')\n",
    "        x.append(float(la[0]))\n",
    "        y.append(float(la[1]))\n",
    "    inf.close()\n",
    "    x=np.array(x)\n",
    "    y=np.array(y)\n",
    "    return x,y\n",
    "\n",
    "def geninvertedexpfunc(x, a, k, c):\n",
    "    return c+a*(1-np.exp(k*x))\n",
    "\n",
    "# Brautigam laboratory thermal denaturation equation\n",
    "def tdmodel(T, m1, b1, m2, b2, deltaH, TM, R=8.314):\n",
    "    line1=m1*T+b1\n",
    "    line2=m2*T+b2\n",
    "    Q=np.exp(-deltaH/(R*T)*(1-T/TM))\n",
    "    return (line1+line2*Q)/(1+Q)"
   ]
  },
  {
   "cell_type": "code",
   "execution_count": null,
   "id": "fa843e7b-697a-48c3-b516-4d8645ca9325",
   "metadata": {},
   "outputs": [],
   "source": [
    "# variables\n",
    "basedir = os.getcwd()"
   ]
  }
 ],
 "metadata": {
  "kernelspec": {
   "display_name": "Python 3 (ipykernel)",
   "language": "python",
   "name": "python3"
  },
  "language_info": {
   "codemirror_mode": {
    "name": "ipython",
    "version": 3
   },
   "file_extension": ".py",
   "mimetype": "text/x-python",
   "name": "python",
   "nbconvert_exporter": "python",
   "pygments_lexer": "ipython3",
   "version": "3.12.3"
  }
 },
 "nbformat": 4,
 "nbformat_minor": 5
}
