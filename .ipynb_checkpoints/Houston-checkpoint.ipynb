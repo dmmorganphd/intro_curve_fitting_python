{
 "cells": [
  {
   "cell_type": "markdown",
   "id": "c5a73225-bd26-4534-9dc3-c23f705eab92",
   "metadata": {},
   "source": [
    "Houston, we've had a problem:<br><br>The curve_fit routine has run without errors, but the fit is plainly wrong. The result is more or less linear whereas the data set clearly has the shape of an ordinary exponential decay. As a consequence, the residuals describe a curve, not a random scattering about the zero line. Additionally, the R$^2$ value is poor.<br><br>This is an example of a curve-fitting exercise which succeeded in finding a 'local,' rather than the 'global,' minimum of the minimization function. To fix this, it is necessary to specify better starting parameters for the fit routine, of which the most important is the decay constant, as the $a$ parameter in the function may be estimated as the y-value of the first data point.<br><br><font size=\"5\">On estimating k</font><br><br>No doubt you are familiar with the idea 'after 10 half-lives, a radioactive substance has, for all intents and purposes, decayed away. Let's make that idea a bit more precise, and introduce the concept of the <i>lifetime</i> of a process, because this will greatly simplify the ensuing arithmetic. Whereas the <i>the half-life</i> of a process is the length of time $t_{\\frac{1}{2}}$ it takes so that half of the material present at time $t=0$ has vanished, the <i>lifetime</i> of a process is the length of time $\\tau$ it takes so that $\\frac{1}{e}$ of the starting material remains. Therefore, if:\n",
    "$$y(t)=A_0e^{kt}$$then:\n",
    "$$y(\\tau)=A_0e^{k\\tau}$$and:\n",
    "$$y(\\tau)=\\frac{A_0}{e}$$Setting these last two equal to each other and solving for $\\tau$ provides:\n",
    "\n",
    "$$\\frac{A_0}{e}=A_0e^{k\\tau}$$\n",
    "$$\\frac{1}{e}=e^{k\\tau}$$\n",
    "Taking logarithms:\n",
    "$$-1=k\\tau$$\n",
    "$$\\tau=-\\frac{1}{k}$$\n",
    "Therefore, if you can eyeball the number of lifetimes $n$ described by the extent of decay you see in your data, you can estimate k as:\n",
    "\n",
    "$$k=-\\frac{n}{(t_{max})}$$\n",
    "in which $t_{max}$ is the largest value of the independent variable in the data.<br><br>\n",
    "To get a feel for how much decay goes with an arbitrary number of lifetimes, here are decays for one, three, five, and seven lifetimes."
   ]
  }
 ],
 "metadata": {
  "kernelspec": {
   "display_name": "Python 3 (ipykernel)",
   "language": "python",
   "name": "python3"
  },
  "language_info": {
   "codemirror_mode": {
    "name": "ipython",
    "version": 3
   },
   "file_extension": ".py",
   "mimetype": "text/x-python",
   "name": "python",
   "nbconvert_exporter": "python",
   "pygments_lexer": "ipython3",
   "version": "3.12.3"
  }
 },
 "nbformat": 4,
 "nbformat_minor": 5
}
