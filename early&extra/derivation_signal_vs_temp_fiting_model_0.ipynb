{
 "cells": [
  {
   "cell_type": "markdown",
   "id": "84d1e3e4-10d4-4136-8e37-fad419615d73",
   "metadata": {},
   "source": [
    "# Derivation of a van't Hoff equation based model for fitting signal vs. temperature data exhibiting sloping baselines\n",
    "## David M. Morgan, Ph.D.\n",
    "For the Colbert Laboratory at NDSU, with my thanks and best wishes."
   ]
  },
  {
   "cell_type": "markdown",
   "id": "815dbe82-a4d8-454a-ad0d-ba8ffa15a123",
   "metadata": {},
   "source": [
    "<font size=\"5\">Thermodynamics of Protein Denaturation</font><br><br>\n",
    "<font size=\"5\">The van't Hoff Equation</font><br><br>\n",
    "Consider the equilibrium between the native (N) and random coil (C) states of a protein:\n",
    "$$N\\rightleftharpoons C$$\n",
    "and recall that the equilibrium constant for this process is:\n",
    "$$K=\\frac{C}{N}$$\n",
    "in which:<br>\n",
    "&emsp;C&emsp;&emsp;is the concentration of the random coil species, and<br>\n",
    "&emsp;N&emsp;&emsp;is the concentration of the native species.<br><br>\n",
    "At low temperatures, the equilibrium constant will have values much smaller than 1, indicating that the native state of the protein massively predominates over the random coil state at those temperatures. In contrast, at high temperatures, the equilibrium constant will have values much larger than 1, indicating that the random coil state massively predominates over the native state. At intermediate temperatures, the equilibrium constant will have intermediate values, and at a particular temperature, the melting temperature $T_M$, the populations of native and random coil states will be precisely equal and the equilibrium constant will have a value of 1.<br><br>\n",
    "The temperature dependence of the equilibrium constant is given by the linear form of the [van't Hoff equation](https://en.wikipedia.org/wiki/Van_%27t_Hoff_equation):\n",
    "$$ln(K)=-\\frac{\\Delta H\\degree}{R}\\frac{1}{T}+\\frac{\\Delta S\\degree}{R}$$\n",
    "\n",
    "If the value of the equilibrium constant is known at any one temperature, its value at another temperature, e.g. $T_M$, may be estimated using the integrated form of the equation:\n",
    "$$ln(\\frac{K}{K_{T_M}})=-\\frac{\\Delta H\\degree}{R}(\\frac{1}{T}-\\frac{1}{T_M})$$\n",
    "Because, in this case $K_{T_M}=1$, this simplifies even further:\n",
    "$$ln(K)=-\\frac{\\Delta H\\degree}{R}(\\frac{1}{T}-\\frac{1}{T_M})$$\n",
    "<br>\n",
    "To make use of this relationship to estimate the melting temperature and enthalpy of thermal denaturation for an arbitrary protein, it is necessary to establish a relationship between the equilibrium constant at an arbitrary temperature and an observable signal that varies as a function of temperature. Usually this signal is spectroscopic.<br><br>\n",
    "<font size=\"5\">Total and Fractional Protein Concentrations & Reformulation of the Equilibrium Constant</font><br><br>\n",
    "\n",
    "In a two-state protein denaturation equilibrium consisting of an N state and a C state, let:<br><br>\n",
    "&emsp;T&emsp;&emsp;be the total protein concentration, the sum of that in each of states N and C<br>\n",
    "&emsp;$f_N$&emsp;&emsp;be the fraction of total protein found in state N, and<br>\n",
    "&emsp;$f_C$&emsp;&emsp;be the fraction of total protein found in state C.<br><br>\n",
    "Algebraically:<br>\n",
    "$$T=N+C$$\n",
    "$$f_N=\\frac{N}{T}=\\frac{N}{N+C}$$\n",
    "$$f_C=\\frac{C}{T}=\\frac{C}{N+C}$$\n",
    "$$f_N+f_C=\\frac{N}{N+C}+\\frac{C}{N+C}=\\frac{N+C}{N+C}=1$$\n",
    "<br>\n",
    "If:\n",
    "$$K=\\frac{C}{N}$$\n",
    "then, substituting $f_C*T$ and $f_N*T$ for $C$ and $N$ respectively, provides:\n",
    "$$K=\\frac{f_C*T}{f_N*T}$$\n",
    "and $T$ drops out to afford:\n",
    "$$K=\\frac{f_C}{f_N}$$\n",
    "Substituting $1-f_N$ for $f_C$ again eliminates an unnecessary parameter:\n",
    "$$K=\\frac{1-f_N}{f_N}$$\n",
    "<br><br>\n",
    "<font size=\"5\">Fractional Protein Concentrations &<br>the Observed Signal</font><br><br>\n",
    "Because the signal that is observed at any moment must derive from either the native conformation of the protein or its random coil conformation, it must be a linear combination of each of these signals weighted by the fraction of total protein molecules found in each of those states.<br><br>\n",
    "Algebraically:\n",
    "$$\\sigma=f_N\\sigma_N+f_C\\sigma_C$$\n",
    "Again $f_C$ is eliminated in the usual way to afford:\n",
    "$$\\sigma=f_N\\sigma_N+(1-f_N)\\sigma_C$$\n",
    "from which an expression isolating $f_N$ may be prepared:\n",
    "$$f_N=\\frac{\\sigma-\\sigma_C}{\\sigma_N-\\sigma_C}$$\n",
    "Substitution of this result into that from the section above for the equilibrium constant provides:\n",
    "$$K=\\frac{1-\\frac{\\sigma-\\sigma_C}{\\sigma_N-\\sigma_C}}{\\frac{\\sigma-\\sigma_C}{\\sigma_N-\\sigma_C}}$$\n",
    "This rearranges to the tractable:\n",
    "$$K=\\frac{\\sigma_N-\\sigma}{\\sigma-\\sigma_C}$$\n",
    "which may be substituted into the integrated form of the van't Hoff equation:\n",
    "$$ln(K)=-\\frac{\\Delta H\\degree}{R}(\\frac{1}{T}-\\frac{1}{T_M})$$\n",
    "to provide:\n",
    "$$ln(\\frac{\\sigma_N-\\sigma}{\\sigma-\\sigma_C})=-\\frac{\\Delta H\\degree}{R}(\\frac{1}{T}-\\frac{1}{T_M})$$\n",
    "Exponentiation provides:\n",
    "$$\\frac{\\sigma_N-\\sigma}{\\sigma-\\sigma_C}=e^{-\\frac{\\Delta H\\degree}{R}(\\frac{1}{T}-\\frac{1}{T_M})}$$\n",
    "from which an expression for the observed signal in terms of temperature and fittable parameters $\\Delta H\\degree$ and $T_M$ may be prepared:\n",
    "$$\\sigma=\\frac{\\sigma_N+\\sigma_Ce^{-\\frac{\\Delta H\\degree}{R}(\\frac{1}{T}-\\frac{1}{T_M})}}{1+e^{-\\frac{\\Delta H\\degree}{R}(\\frac{1}{T}-\\frac{1}{T_M})}}$$<br><br>\n",
    "Is this correct?"
   ]
  },
  {
   "cell_type": "code",
   "execution_count": 3,
   "id": "6ae598cc-3f65-4145-805c-b98d3f07ebab",
   "metadata": {},
   "outputs": [
    {
     "data": {
      "image/png": "[encoded data removed]",
      "text/plain": [
       "<Figure size 640x480 with 1 Axes>"
      ]
     },
     "metadata": {},
     "output_type": "display_data"
    }
   ],
   "source": [
    "import numpy as np\n",
    "import matplotlib.pyplot as plt\n",
    "%matplotlib inline\n",
    "\n",
    "def sigmafunc(T, sigmaN, sigmaC, deltaH, TM, R=8.3144):\n",
    "    Q=np.exp(-deltaH/R*(1/T-1/TM))\n",
    "    return ((sigmaN+sigmaC*Q)/(1+Q))\n",
    "\n",
    "mintemp = 4 # degrees C\n",
    "maxtemp = 84 \n",
    "mintemp += 273.15 # conversion to Kelvin\n",
    "maxtemp += 273.15\n",
    "T = np.linspace(mintemp, maxtemp, 15)\n",
    "\n",
    "sigmaN = 0 # arbitrary\n",
    "sigmaC = 9 # arbitrary, but != sigmaN\n",
    "deltaH = 100000 # Joules per mol, because if undeclared, R=8.3144 Joules per (Kelvin mol)\n",
    "TM = 52 # degrees C\n",
    "TM += 273.15 # conversion to Kelvin\n",
    "\n",
    "sigma = sigmafunc(T, sigmaN, sigmaC, deltaH, TM)\n",
    "plt.scatter(T,sigma)\n",
    "plt.show()"
   ]
  },
  {
   "cell_type": "markdown",
   "id": "206c136a-59b3-4501-a2f3-2d9b86cb3be4",
   "metadata": {},
   "source": [
    "Yes, the result above is reasonable."
   ]
  }
 ],
 "metadata": {
  "kernelspec": {
   "display_name": "Python 3 (ipykernel)",
   "language": "python",
   "name": "python3"
  },
  "language_info": {
   "codemirror_mode": {
    "name": "ipython",
    "version": 3
   },
   "file_extension": ".py",
   "mimetype": "text/x-python",
   "name": "python",
   "nbconvert_exporter": "python",
   "pygments_lexer": "ipython3",
   "version": "3.12.3"
  }
 },
 "nbformat": 4,
 "nbformat_minor": 5
}
