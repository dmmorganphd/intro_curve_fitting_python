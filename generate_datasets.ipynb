{
 "cells": [
  {
   "cell_type": "markdown",
   "id": "dc8f6299-545b-491e-b368-5c4aa2f515c6",
   "metadata": {},
   "source": [
    "# Generate data sets for data fitting exercises\n",
    "## DMM"
   ]
  },
  {
   "cell_type": "code",
   "execution_count": 39,
   "id": "3c359b77-a7fb-4383-8c00-ae2eb8764df8",
   "metadata": {},
   "outputs": [],
   "source": [
    "import os\n",
    "import socket\n",
    "import matplotlib.pyplot as plt \n",
    "import numpy as np\n",
    "%matplotlib inline "
   ]
  },
  {
   "cell_type": "markdown",
   "id": "a686f606-d328-48e5-900b-201b133f677d",
   "metadata": {},
   "source": [
    "## Directory housekeeping"
   ]
  },
  {
   "cell_type": "code",
   "execution_count": 40,
   "id": "e3c16502-7795-4da1-8c4d-f5a38b05938d",
   "metadata": {},
   "outputs": [],
   "source": [
    "# get the location of the 'intro_curve_fitting_python' directory on the local machine;\n",
    "# change into it or throw an error and force a kernel restart (in a jupyter notebook)\n",
    "\n",
    "# or edit the following to reflect the local machine name and preferred directory\n",
    "if not socket.gethostname() == 'apokalite': # local machine name\n",
    "    basedir = input('Enter the full path of the directory \\'intro_curve_fitting_python\\' on your machine.\\n') \n",
    "    if basedir == '':\n",
    "        print('You must name a default directory. The kernel will now restart; rerun this program.\\n')\n",
    "        quit()\n",
    "else:\n",
    "    basedir = '/home/david/gh/intro_curve_fitting_python' # preferred local directory\n",
    "    \n",
    "try:\n",
    "    os.chdir(basedir)\n",
    "except:\n",
    "    print('\\nThat directory does not exist. The kernel will now restart; rerun this program.\\n')\n",
    "    quit()"
   ]
  },
  {
   "cell_type": "code",
   "execution_count": 41,
   "id": "dd83c29f-ab05-4ad9-b004-c27a5ee5e604",
   "metadata": {},
   "outputs": [],
   "source": [
    "# verify that expected data subdirectories exist; create them if not\n",
    "\n",
    "# subdirectory for linear data \n",
    "td = basedir+'/linear_data'\n",
    "if not os.path.isdir(td):\n",
    "    os.mkdir(td)\n",
    "\n",
    "# subdirectory for exponential data \n",
    "td = basedir+'/exponential_data'\n",
    "if not os.path.isdir(td):\n",
    "    os.mkdir(td)\n",
    "\n",
    "# subdirectory for thermal denaturation data \n",
    "td = basedir+'/thermal_denaturation_data'\n",
    "if not os.path.isdir(td):\n",
    "    os.mkdir(td)\n",
    "\n",
    "# subdirectory for decaying sine data \n",
    "td = basedir+'/decaying_sine_data'\n",
    "if not os.path.isdir(td):\n",
    "    os.mkdir(td)\n"
   ]
  },
  {
   "cell_type": "markdown",
   "id": "076a0cf0-9e26-4670-a058-fba5bec76eab",
   "metadata": {},
   "source": [
    "## Create noisy linear data sets"
   ]
  },
  {
   "cell_type": "code",
   "execution_count": 42,
   "id": "7da2615f-892e-4582-b6b4-b11eae288a74",
   "metadata": {},
   "outputs": [],
   "source": [
    "# create linear data\n",
    "# set the linear data directory:\n",
    "datadir = basedir+'/linear_data'"
   ]
  },
  {
   "cell_type": "code",
   "execution_count": 43,
   "id": "1681e3e5-0421-4b91-9039-55453aa8d7d1",
   "metadata": {},
   "outputs": [
    {
     "name": "stdout",
     "output_type": "stream",
     "text": [
      "slope: 1.43, intercept: 1.58\n",
      "\n"
     ]
    }
   ],
   "source": [
    "# develop an algorithm\n",
    "\n",
    "# randomly choose a slope between 0 and 5 and an intercept between -5 and +5\n",
    "m = np.random.uniform(low=0, high=5)\n",
    "b = np.random.uniform(low=-5, high=5)\n",
    "\n",
    "# print the name of each variable,\n",
    "# followed by its value as a floating point number with 2 decimal places\n",
    "print(f'slope: %1.2f, intercept: %1.2f\\n' % (m, b))"
   ]
  },
  {
   "cell_type": "code",
   "execution_count": 44,
   "id": "57f9e78c-243f-4387-ae50-5912aae4de2d",
   "metadata": {},
   "outputs": [],
   "source": [
    "# create a linear data series\n",
    "\n",
    "# create an array of 15 equally-spaced x values spanning 0 through 5\n",
    "x = np.linspace(0,5,15)\n",
    "\n",
    "# create the array of y values corresponding to y = mx + b\n",
    "y = m*x + b\n",
    "\n",
    "# add random normally distributed noise\n",
    "# compute sigma = 0.02 * y(max) - y(min)\n",
    "sigma = 0.02 * (np.max(y) - np.min(y))\n",
    "\n",
    "# add random error from a normal distribution having mean=0 and sigma as defined\n",
    "# to each element of y\n",
    "y = np.random.normal(0, sigma, 15) + y"
   ]
  },
  {
   "cell_type": "code",
   "execution_count": 45,
   "id": "77b18575-e774-45aa-a7ef-80c4b26be0ed",
   "metadata": {},
   "outputs": [
    {
     "data": {
      "image/png": "[encoded data removed]",
      "text/plain": [
       "<Figure size 640x480 with 1 Axes>"
      ]
     },
     "metadata": {},
     "output_type": "display_data"
    }
   ],
   "source": [
    "# make and show a scatter plot\n",
    "plt.scatter(x,y)\n",
    "plt.show()"
   ]
  },
  {
   "cell_type": "code",
   "execution_count": 46,
   "id": "650e46dd-51d8-4781-92a8-b5629985fc54",
   "metadata": {},
   "outputs": [],
   "source": [
    "# create a function that accomplishes all the number crunching given the necessary input parameters\n",
    "\n",
    "def mklineards(minx, maxx, minm, maxm, minb, maxb, dec, nump):\n",
    "    # most variable names self-explanatory, except:\n",
    "    # dec: decimal (fraction) value to multiply by (y(max)-y(min)) to \n",
    "    # determine input sigma parameter to noise function\n",
    "    # nump: 'number of points' to generate\n",
    "    m = np.random.uniform(low=minm, high=maxm)\n",
    "    b = np.random.uniform(low=minb, high=maxb)\n",
    "    x = np.linspace(minx, maxx, nump)\n",
    "    y = m * x + b\n",
    "    y = y + np.random.normal(0, dec*(np.max(y) - np.min(y)), nump)\n",
    "    return x,y"
   ]
  },
  {
   "cell_type": "code",
   "execution_count": 47,
   "id": "699e2ab5-76c1-47e8-a5a8-6dedc2bfdad2",
   "metadata": {},
   "outputs": [],
   "source": [
    "# run the function with the following parameters:\n",
    "\n",
    "minx = -5\n",
    "maxx = 5\n",
    "minm = -5\n",
    "maxm = -0.01\n",
    "minb = 0\n",
    "maxb = 5\n",
    "dec = 0.1\n",
    "nump = 15\n",
    "\n",
    "x,y = mklineards(minx, maxx, minm, maxm, minb, maxb, dec, nump)"
   ]
  },
  {
   "cell_type": "code",
   "execution_count": 48,
   "id": "e9427c62-3561-476f-b8d7-8433f55d48f8",
   "metadata": {},
   "outputs": [
    {
     "data": {
      "image/png": "[encoded data removed]",
      "text/plain": [
       "<Figure size 640x480 with 1 Axes>"
      ]
     },
     "metadata": {},
     "output_type": "display_data"
    }
   ],
   "source": [
    "# make and show a scatter plot\n",
    "plt.scatter(x,y)\n",
    "plt.show()"
   ]
  },
  {
   "cell_type": "code",
   "execution_count": 49,
   "id": "84318c2c-5039-421d-a9a1-37dd98413d35",
   "metadata": {},
   "outputs": [],
   "source": [
    "# create a function to save the dataset to a csv file\n",
    "def savexy(x,y,fn):\n",
    "    # variable names self-explanatory, except:\n",
    "    # fn: filename, a string\n",
    "    a = np.column_stack((x,y))\n",
    "    ofn = datadir+'/'+fn\n",
    "    np.savetxt(ofn, a, delimiter=\",\")\n",
    "    return print(f'saved x, y dataset as \\'{fn}\\' in directory \\'{datadir}\\'\\n')"
   ]
  },
  {
   "cell_type": "code",
   "execution_count": 50,
   "id": "952a8910-0660-437a-a80e-e20390e9a693",
   "metadata": {},
   "outputs": [
    {
     "name": "stdout",
     "output_type": "stream",
     "text": [
      "saved x, y dataset as 'linear1.csv' in directory '/home/david/gh/intro_curve_fitting_python/linear_data'\n",
      "\n"
     ]
    }
   ],
   "source": [
    "# save the data\n",
    "savexy(x,y,'linear1.csv')"
   ]
  },
  {
   "cell_type": "code",
   "execution_count": 51,
   "id": "b8c5354c-ed1e-4407-9886-cac52a69b423",
   "metadata": {},
   "outputs": [
    {
     "data": {
      "image/png": "[encoded data removed]",
      "text/plain": [
       "<Figure size 640x480 with 1 Axes>"
      ]
     },
     "metadata": {},
     "output_type": "display_data"
    },
    {
     "name": "stdout",
     "output_type": "stream",
     "text": [
      "saved x, y dataset as 'linear2.csv' in directory '/home/david/gh/intro_curve_fitting_python/linear_data'\n",
      "\n"
     ]
    },
    {
     "data": {
      "image/png": "[encoded data removed]",
      "text/plain": [
       "<Figure size 640x480 with 1 Axes>"
      ]
     },
     "metadata": {},
     "output_type": "display_data"
    },
    {
     "name": "stdout",
     "output_type": "stream",
     "text": [
      "saved x, y dataset as 'linear3.csv' in directory '/home/david/gh/intro_curve_fitting_python/linear_data'\n",
      "\n"
     ]
    }
   ],
   "source": [
    "# run the function two more times, with different parameters each time,\n",
    "# saving the datasets along the way\n",
    "\n",
    "minx = 0\n",
    "maxx = 10\n",
    "minm = 0\n",
    "maxm = 1\n",
    "minb = 0\n",
    "maxb = 10\n",
    "dec = 0.2\n",
    "nump = 15\n",
    "\n",
    "x,y = mklineards(minx, maxx, minm, maxm, minb, maxb, dec, nump)\n",
    "plt.scatter(x,y)\n",
    "plt.show()\n",
    "\n",
    "savexy(x,y,'linear2.csv')\n",
    "\n",
    "minx = 0\n",
    "maxx = 10\n",
    "minm = -10\n",
    "maxm = 10\n",
    "minb = -10\n",
    "maxb = 10\n",
    "dec = 0.05\n",
    "nump = 15\n",
    "\n",
    "x,y = mklineards(minx, maxx, minm, maxm, minb, maxb, dec, nump)\n",
    "plt.scatter(x,y)\n",
    "plt.show()\n",
    "\n",
    "savexy(x,y,'linear3.csv')"
   ]
  },
  {
   "cell_type": "markdown",
   "id": "e8b536d5-716d-4928-9b45-61989bd7a2b2",
   "metadata": {},
   "source": [
    "## Create noisy exponential decay data sets "
   ]
  },
  {
   "cell_type": "code",
   "execution_count": 52,
   "id": "c397ca21-695f-4525-9fc5-d2403551400d",
   "metadata": {},
   "outputs": [],
   "source": [
    "# create exponential (decay) data\n",
    "# set exponential data directory:\n",
    "datadir = basedir+'/exponential_data'"
   ]
  },
  {
   "cell_type": "code",
   "execution_count": 53,
   "id": "e43c5b3d-72a8-4f8b-9162-a202565fde8c",
   "metadata": {},
   "outputs": [
    {
     "name": "stdout",
     "output_type": "stream",
     "text": [
      "k: -0.612 (e.g., per second)\n",
      "\n",
      "lifetime: 1.635 (e.g., seconds)\n",
      "\n",
      "maxx: 6.000 (e.g., seconds)\n",
      "\n"
     ]
    },
    {
     "data": {
      "image/png": "[encoded data removed]",
      "text/plain": [
       "<Figure size 640x480 with 1 Axes>"
      ]
     },
     "metadata": {},
     "output_type": "display_data"
    }
   ],
   "source": [
    "# develop the algorithm\n",
    "\n",
    "# define an arbitrary exponential (assumed to be decay) function\n",
    "# that goes to zero at large x\n",
    "def expdf(x, k, A):\n",
    "    return A * np.exp(k*x)\n",
    "\n",
    "# choose a random value for k, the decay constant, in the range\n",
    "# -1 <= k <= 0\n",
    "k = np.random.uniform(low=-1, high=0)\n",
    "print(f'k: %.3f (e.g., per second)\\n' % (k))\n",
    "\n",
    "# given k, compute the lifetime\n",
    "l = -1/k\n",
    "print(f'lifetime: %.3f (e.g., seconds)\\n' % (l))\n",
    "\n",
    "# randomly choose maxx between 3 and 6 lifetimes\n",
    "maxx = np.ceil(np.random.uniform(low=3*l, high=6*l))\n",
    "print(f'maxx: %.3f (e.g., seconds)\\n' % (maxx))\n",
    "\n",
    "# randomly choose an A value on the interval 0, 1000000\n",
    "A = np.random.uniform(low=1, high=1000000)\n",
    "\n",
    "# create 15 uniformly spaced points between, and including, 0 and maxx\n",
    "x = np.linspace(0, maxx, 15)\n",
    "\n",
    "# create the corresponding y values\n",
    "y = expdf(x,k,A)\n",
    "\n",
    "# add random noise to the y values\n",
    "dec = 0.05\n",
    "nump = 15\n",
    "y = y + np.random.normal(0, dec*(np.max(y) - np.min(y)), nump)\n",
    "\n",
    "# scatter plot and show\n",
    "plt.scatter(x,y)\n",
    "plt.show()"
   ]
  },
  {
   "cell_type": "code",
   "execution_count": 54,
   "id": "7bfa06c9-9580-49e1-8164-1e7c5873d157",
   "metadata": {},
   "outputs": [],
   "source": [
    "# create a function to implement the algorithm given the necessary input parameters\n",
    "\n",
    "def mkexpdecayds(mink, maxk, minxlifetimes, maxxlifetimes, minA, maxA, ylimit, dec, nump):\n",
    "    # in which:\n",
    "    # mink, maxk are limits to the range in which to choose the decay constant\n",
    "    # maxk assumed to be negative; see ylimit\n",
    "    # minxlifetimes and maxxlifetimes are the minimum and maximum right-hand most values\n",
    "    # on the x axis, in multiples of the lifetime of the process\n",
    "    # minA and maxA are limits to the range in which to choose the zero point magnitude of the function\n",
    "    # ylimit is the value of the function at large x\n",
    "    # dec is the decimal (fraction) value to multiply by (y(max)-y(min)) to \n",
    "    # determine the input parameter sigma in the noise function and\n",
    "    # nump are the number of points to generate\n",
    "    k = np.random.uniform(low=mink, high=maxk)\n",
    "    maxx = -1/k * np.random.uniform(low=minxlifetimes, high=minxlifetimes)\n",
    "    A = np.random.uniform(low=minA, high=maxA)\n",
    "    x = np.linspace(0, maxx, nump)\n",
    "    y = ylimit + A*np.exp(k*x)\n",
    "    y = y + np.random.normal(0, dec*(np.max(y) - np.min(y)), nump)\n",
    "    return x,y"
   ]
  },
  {
   "cell_type": "code",
   "execution_count": 55,
   "id": "86ee453c-ee0d-4bb9-98bf-1d6fdc267ea0",
   "metadata": {},
   "outputs": [
    {
     "data": {
      "image/png": "[encoded data removed]",
      "text/plain": [
       "<Figure size 640x480 with 1 Axes>"
      ]
     },
     "metadata": {},
     "output_type": "display_data"
    },
    {
     "name": "stdout",
     "output_type": "stream",
     "text": [
      "saved x, y dataset as 'exponential1.csv' in directory '/home/david/gh/intro_curve_fitting_python/exponential_data'\n",
      "\n"
     ]
    }
   ],
   "source": [
    "mink=-1.1\n",
    "maxk=-0.9\n",
    "minxlifetimes=4.9\n",
    "maxxlifetimes=5.1\n",
    "minA=20000\n",
    "maxA=1000000\n",
    "ylimit=1000000\n",
    "dec=0.02\n",
    "nump=15\n",
    "\n",
    "x,y = mkexpdecayds(mink, maxk, minxlifetimes, maxxlifetimes, minA, maxA, ylimit, dec, nump)\n",
    "plt.scatter(x,y)\n",
    "plt.show()\n",
    "savexy(x,y,'exponential1.csv')"
   ]
  },
  {
   "cell_type": "code",
   "execution_count": 56,
   "id": "3dca29c3-1a0e-4028-886c-bc952b62286d",
   "metadata": {},
   "outputs": [
    {
     "data": {
      "image/png": "[encoded data removed]",
      "text/plain": [
       "<Figure size 640x480 with 1 Axes>"
      ]
     },
     "metadata": {},
     "output_type": "display_data"
    },
    {
     "name": "stdout",
     "output_type": "stream",
     "text": [
      "saved x, y dataset as 'exponential2.csv' in directory '/home/david/gh/intro_curve_fitting_python/exponential_data'\n",
      "\n"
     ]
    }
   ],
   "source": [
    "mink=-10\n",
    "maxk=-1\n",
    "minxlifetimes=3\n",
    "maxxlifetimes=5\n",
    "minA=1\n",
    "maxA=10\n",
    "ylimit=9411\n",
    "dec=0.05\n",
    "nump=15\n",
    "\n",
    "x,y = mkexpdecayds(mink, maxk, minxlifetimes, maxxlifetimes, minA, maxA, ylimit, dec, nump)\n",
    "plt.scatter(x,y)\n",
    "plt.show()\n",
    "savexy(x,y,'exponential2.csv')"
   ]
  },
  {
   "cell_type": "code",
   "execution_count": 57,
   "id": "9c8bd9eb-7b1a-4ff1-bde6-f50194d58d07",
   "metadata": {},
   "outputs": [],
   "source": [
    "# make a slightly more interesting function just for fun:\n",
    "\n",
    "def mkexpdecayds1(mink, maxk, minxlifetimes, maxxlifetimes, minA, maxA, ylimit, dec, nump):\n",
    "    # in which:\n",
    "    # mink, maxk are limits to the range in which to choose the decay constant\n",
    "    # maxk assumed to be negative; see ylimit\n",
    "    # minxlifetimes and maxxlifetimes are the minimum and maximum right-hand most values\n",
    "    # on the x axis, in multiples of the lifetime of the process\n",
    "    # minA and maxA are limits to the range in which to choose the zero point magnitude of the function\n",
    "    # ylimit is the value of the function at large x\n",
    "    # dec is the decimal (fraction) value to multiply by (y(max)-y(min)) to \n",
    "    # determine the input parameter sigma in the noise function and\n",
    "    # nump are the number of points to generate\n",
    "    k = np.random.uniform(low=mink, high=maxk)\n",
    "    maxx = -1/k * np.random.uniform(low=minxlifetimes, high=minxlifetimes)\n",
    "    A = np.random.uniform(low=minA, high=maxA)\n",
    "    x = np.linspace(0, maxx, nump)\n",
    "    y = ylimit + (1-A*np.exp(k*x)) # this line changed wrt parent\n",
    "    y = y + np.random.normal(0, dec*(np.max(y) - np.min(y)), nump)\n",
    "    return x,y"
   ]
  },
  {
   "cell_type": "code",
   "execution_count": 58,
   "id": "0b0b2c20-c814-4298-b382-e04047ce37f7",
   "metadata": {},
   "outputs": [
    {
     "data": {
      "image/png": "[encoded data removed]",
      "text/plain": [
       "<Figure size 640x480 with 1 Axes>"
      ]
     },
     "metadata": {},
     "output_type": "display_data"
    },
    {
     "name": "stdout",
     "output_type": "stream",
     "text": [
      "saved x, y dataset as 'exponential3.csv' in directory '/home/david/gh/intro_curve_fitting_python/exponential_data'\n",
      "\n"
     ]
    }
   ],
   "source": [
    "mink=-0.001\n",
    "maxk=-0.00001\n",
    "minxlifetimes=5\n",
    "maxxlifetimes=7\n",
    "minA=1000\n",
    "maxA=5000\n",
    "ylimit=9411\n",
    "dec=0.03\n",
    "nump=15\n",
    "\n",
    "x,y = mkexpdecayds1(mink, maxk, minxlifetimes, maxxlifetimes, minA, maxA, ylimit, dec, nump)\n",
    "plt.scatter(x,y)\n",
    "plt.show()\n",
    "savexy(x,y,'exponential3.csv')"
   ]
  },
  {
   "cell_type": "markdown",
   "id": "3e6b704b-99ee-4b91-9cd0-ade936f5f4c0",
   "metadata": {},
   "source": [
    "## Create a noisy sinusoidal decay data set\n",
    "\n",
    "Imagine the real component of an FID from a solution of 1% H$_2$O in D$_2$O providing a signal at 4.7 ppm, on a 600 mHz instrument, a Nyquist frequency corresponding to 24 ppm; a 5s acquisition time, with the signal having a lifetime of 0.5s. "
   ]
  },
  {
   "cell_type": "code",
   "execution_count": null,
   "id": "2db35969-12ae-42fe-ba74-3d6151a6ec14",
   "metadata": {},
   "outputs": [],
   "source": [
    "def edsin(np.sin("
   ]
  }
 ],
 "metadata": {
  "kernelspec": {
   "display_name": "Python 3 (ipykernel)",
   "language": "python",
   "name": "python3"
  },
  "language_info": {
   "codemirror_mode": {
    "name": "ipython",
    "version": 3
   },
   "file_extension": ".py",
   "mimetype": "text/x-python",
   "name": "python",
   "nbconvert_exporter": "python",
   "pygments_lexer": "ipython3",
   "version": "3.12.3"
  }
 },
 "nbformat": 4,
 "nbformat_minor": 5
}
