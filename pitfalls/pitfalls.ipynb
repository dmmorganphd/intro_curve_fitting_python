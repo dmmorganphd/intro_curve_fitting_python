{
 "cells": [
  {
   "cell_type": "markdown",
   "id": "5ed847c6-761e-4475-b599-c99487e24f2d",
   "metadata": {},
   "source": [
    "## An import command fails:\n",
    "\n",
    "## Caution!! For demonstration purposes!\n",
    "You might prefer to look at the [html](./pitfalls.html) version of this file!\n",
    "## You are about to install / uninstall / reinstall aspects of your python distribution\n"
   ]
  },
  {
   "cell_type": "code",
   "execution_count": 2,
   "id": "a009feb9-77e1-40fd-bf3a-4bb87c8577dc",
   "metadata": {},
   "outputs": [
    {
     "ename": "ModuleNotFoundError",
     "evalue": "No module named 'tk'",
     "output_type": "error",
     "traceback": [
      "\u001b[0;31m---------------------------------------------------------------------------\u001b[0m",
      "\u001b[0;31mModuleNotFoundError\u001b[0m                       Traceback (most recent call last)",
      "Cell \u001b[0;32mIn[2], line 1\u001b[0m\n\u001b[0;32m----> 1\u001b[0m \u001b[38;5;28;01mimport\u001b[39;00m \u001b[38;5;21;01mtk\u001b[39;00m\n",
      "\u001b[0;31mModuleNotFoundError\u001b[0m: No module named 'tk'"
     ]
    }
   ],
   "source": [
    "import tk"
   ]
  },
  {
   "cell_type": "markdown",
   "id": "eadc98c2-fd62-4ea9-9ae7-b644ce7bed6d",
   "metadata": {},
   "source": [
    "The module you tried to import has not been installed for your version of python. Here is a fix"
   ]
  },
  {
   "cell_type": "code",
   "execution_count": 3,
   "id": "1f00c384-b7b5-493d-bcf3-4372a0a1593a",
   "metadata": {},
   "outputs": [
    {
     "name": "stdout",
     "output_type": "stream",
     "text": [
      "Collecting tk\n",
      "  Using cached tk-0.1.0-py3-none-any.whl.metadata (693 bytes)\n",
      "Using cached tk-0.1.0-py3-none-any.whl (3.9 kB)\n",
      "Installing collected packages: tk\n",
      "Successfully installed tk-0.1.0\n"
     ]
    }
   ],
   "source": [
    "# pip is a python package manager\n",
    "# the '!' causes the command to be run outside of the notebook\n",
    "# so that it takes effect environment-wide\n",
    "!pip install tk"
   ]
  },
  {
   "cell_type": "code",
   "execution_count": 4,
   "id": "774f7b0e-730b-443d-8476-9910ec4ea33b",
   "metadata": {},
   "outputs": [],
   "source": [
    "import tk"
   ]
  },
  {
   "cell_type": "markdown",
   "id": "df74bc07-500a-4a1a-9607-275e1a21f4c0",
   "metadata": {},
   "source": [
    "## You get a 'TypeError':</font>\n",
    "TypeError: can't multiply sequence by non-int of type 'numpy.float64'\n",
    "\n"
   ]
  },
  {
   "cell_type": "code",
   "execution_count": 5,
   "id": "291b6370-fbaf-4637-9014-b64343680740",
   "metadata": {},
   "outputs": [
    {
     "ename": "TypeError",
     "evalue": "can't multiply sequence by non-int of type 'numpy.float64'",
     "output_type": "error",
     "traceback": [
      "\u001b[0;31m---------------------------------------------------------------------------\u001b[0m",
      "\u001b[0;31mTypeError\u001b[0m                                 Traceback (most recent call last)",
      "Cell \u001b[0;32mIn[5], line 29\u001b[0m\n\u001b[1;32m     25\u001b[0m inf\u001b[38;5;241m.\u001b[39mclose()\n\u001b[1;32m     27\u001b[0m popt, pcov \u001b[38;5;241m=\u001b[39m curve_fit(sl, x, y)\n\u001b[0;32m---> 29\u001b[0m residuals \u001b[38;5;241m=\u001b[39m y\u001b[38;5;241m-\u001b[39m\u001b[43msl\u001b[49m\u001b[43m(\u001b[49m\u001b[43mx\u001b[49m\u001b[43m,\u001b[49m\u001b[43m \u001b[49m\u001b[38;5;241;43m*\u001b[39;49m\u001b[43mpopt\u001b[49m\u001b[43m)\u001b[49m\n\u001b[1;32m     30\u001b[0m residuals\n",
      "Cell \u001b[0;32mIn[5], line 9\u001b[0m, in \u001b[0;36msl\u001b[0;34m(x, m, b)\u001b[0m\n\u001b[1;32m      8\u001b[0m \u001b[38;5;28;01mdef\u001b[39;00m \u001b[38;5;21msl\u001b[39m(x, m, b):\n\u001b[0;32m----> 9\u001b[0m     \u001b[38;5;28;01mreturn\u001b[39;00m \u001b[43mm\u001b[49m\u001b[38;5;241;43m*\u001b[39;49m\u001b[43mx\u001b[49m\u001b[38;5;241m+\u001b[39mb\n",
      "\u001b[0;31mTypeError\u001b[0m: can't multiply sequence by non-int of type 'numpy.float64'"
     ]
    }
   ],
   "source": [
    "import numpy as np\n",
    "import matplotlib.pyplot as plt\n",
    "from matplotlib import gridspec\n",
    "%matplotlib inline \n",
    "from scipy.optimize import curve_fit\n",
    "import os\n",
    "\n",
    "def sl(x, m, b):\n",
    "    return m*x+b\n",
    "\n",
    "basedir = '/home/david/gh/intro_curve_fitting_python'\n",
    "fn = basedir+'/linear_data/linear1.csv'\n",
    "\n",
    "x = []\n",
    "y = []\n",
    "\n",
    "inf = open(fn)\n",
    "\n",
    "for line in inf:\n",
    "    line = line.rstrip()\n",
    "    la = line.split(',')\n",
    "    x.append(float(la[0]))\n",
    "    y.append(float(la[1]))\n",
    "\n",
    "inf.close()\n",
    "\n",
    "popt, pcov = curve_fit(sl, x, y)\n",
    "\n",
    "residuals = y-sl(x, *popt)\n",
    "residuals"
   ]
  },
  {
   "cell_type": "markdown",
   "id": "9a245f6f-4484-4273-84b5-49d5a9951ff8",
   "metadata": {},
   "source": [
    "Your variables x and y are ordinary python lists, not numpy arrays. Change them into numpy arrays:"
   ]
  },
  {
   "cell_type": "code",
   "execution_count": 6,
   "id": "0993efd0-d93d-4143-9091-9bdfe16e2f2e",
   "metadata": {},
   "outputs": [
    {
     "name": "stdout",
     "output_type": "stream",
     "text": [
      "<class 'list'>\n",
      "<class 'float'>\n",
      "<class 'numpy.ndarray'>\n",
      "<class 'numpy.float64'>\n"
     ]
    },
    {
     "data": {
      "text/plain": [
       "array([2.18136620e-12, 2.18136620e-12, 2.18092211e-12, 2.18092211e-12,\n",
       "       2.18092211e-12, 2.18092211e-12, 2.18103313e-12, 2.18098450e-12,\n",
       "       2.18103313e-12, 2.18092211e-12, 2.18092211e-12, 2.18092211e-12,\n",
       "       2.18092211e-12, 2.18136620e-12, 2.18136620e-12])"
      ]
     },
     "execution_count": 6,
     "metadata": {},
     "output_type": "execute_result"
    }
   ],
   "source": [
    "print(type(x))\n",
    "print(type(x[0]))\n",
    "\n",
    "x = np.array(x)\n",
    "y = np.array(x)\n",
    "\n",
    "print(type(x))\n",
    "print(type(x[0]))\n",
    "\n",
    "popt, pcov = curve_fit(sl, x, y)\n",
    "\n",
    "residuals = y-sl(x, *popt)\n",
    "residuals"
   ]
  },
  {
   "cell_type": "code",
   "execution_count": 7,
   "id": "51af47d5-915c-48af-976d-1a97ebfcbfac",
   "metadata": {},
   "outputs": [
    {
     "name": "stdout",
     "output_type": "stream",
     "text": [
      "Found existing installation: tk 0.1.0\n",
      "Uninstalling tk-0.1.0:\n",
      "  Successfully uninstalled tk-0.1.0\n"
     ]
    }
   ],
   "source": [
    "!pip uninstall -y tk"
   ]
  },
  {
   "cell_type": "code",
   "execution_count": null,
   "id": "96eff337-3313-407e-ae15-57ff401541d6",
   "metadata": {},
   "outputs": [],
   "source": []
  }
 ],
 "metadata": {
  "kernelspec": {
   "display_name": "Python 3 (ipykernel)",
   "language": "python",
   "name": "python3"
  },
  "language_info": {
   "codemirror_mode": {
    "name": "ipython",
    "version": 3
   },
   "file_extension": ".py",
   "mimetype": "text/x-python",
   "name": "python",
   "nbconvert_exporter": "python",
   "pygments_lexer": "ipython3",
   "version": "3.12.3"
  }
 },
 "nbformat": 4,
 "nbformat_minor": 5
}
