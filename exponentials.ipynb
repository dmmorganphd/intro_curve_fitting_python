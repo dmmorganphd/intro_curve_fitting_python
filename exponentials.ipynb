{
 "cells": [
  {
   "cell_type": "markdown",
   "id": "f19ad152-0cac-4445-8b44-5c82c61e66c6",
   "metadata": {},
   "source": [
    "# Exercises fitting exponential decay data\n",
    "## Do imports"
   ]
  },
  {
   "cell_type": "code",
   "execution_count": 1,
   "id": "c6884aea-695b-4d70-8fa5-078523d1e023",
   "metadata": {},
   "outputs": [],
   "source": [
    "# behind the scenes I have exported the contents of the first cell \n",
    "# of the notebook 'start_here.ipynb' into a script 'imports.py'\n",
    "# this command runs that script 'in the notebook's environment' ('-i') \n",
    "%run -i 'imports.py'"
   ]
  },
  {
   "cell_type": "code",
   "execution_count": 2,
   "id": "3f710afc-bbb8-4b98-a387-7633aba18f32",
   "metadata": {},
   "outputs": [],
   "source": [
    "# behind the scenes I have collected and exported all the function definitions\n",
    "# that I have created in all of these notebooks\n",
    "# this command makes them available in an arbitrary notebook\n",
    "%run -i 'definitions_and_defaults.py'"
   ]
  },
  {
   "cell_type": "markdown",
   "id": "811db7d8-5398-4c75-93f2-cbe807bd9ee4",
   "metadata": {},
   "source": [
    "In the '.../intro_curve_fitting_python/exponential_data' directory you will find the following files:"
   ]
  },
  {
   "cell_type": "code",
   "execution_count": 3,
   "id": "7001ce39-ad89-4a72-a544-1ed681c1ec21",
   "metadata": {},
   "outputs": [
    {
     "data": {
      "text/plain": [
       "['exponential2.csv', 'exponential3.csv', 'exponential1.csv']"
      ]
     },
     "execution_count": 3,
     "metadata": {},
     "output_type": "execute_result"
    }
   ],
   "source": [
    "os.listdir(basedir+'/exponential_data/')"
   ]
  },
  {
   "cell_type": "markdown",
   "id": "c9b12886-6ebc-4997-bc07-1950218d9a82",
   "metadata": {},
   "source": [
    "It should not be too difficult to adapt your work from the linear fitting exercises to these data sets.<br><br>To get you started, I will define an appropriate fitting function:\n",
    "$$f(x)=c+A_0e^{kx}$$\n",
    "with $k<0$ assumed. \n",
    "\n",
    "\n",
    "Note that you will have to customize this function to fit data set 3. If you get stuck with that, check out the [notebook](./generate_datasets.ipynb) with which I created the data, or view it as a [webpage](./html/generate_datasets.html)."
   ]
  },
  {
   "cell_type": "code",
   "execution_count": 4,
   "id": "f838d1e8-e0be-45f5-bb11-90c43a8464e8",
   "metadata": {},
   "outputs": [],
   "source": [
    "def genexpfunc(x, a, k, c):\n",
    "    return c+a*np.exp(k*x)"
   ]
  },
  {
   "cell_type": "markdown",
   "id": "97eb2406-df5e-4f9c-b38e-37d9c86c4093",
   "metadata": {},
   "source": [
    "## Your work here:"
   ]
  },
  {
   "cell_type": "code",
   "execution_count": null,
   "id": "f10871b0-1ce7-4de7-b9dd-e2f1dd7e5160",
   "metadata": {},
   "outputs": [],
   "source": []
  },
  {
   "cell_type": "markdown",
   "id": "3837804d-ad81-4fef-ba39-c791ac1f32fd",
   "metadata": {},
   "source": [
    "[Solutions](./exponential_solutions.ipynb)"
   ]
  },
  {
   "cell_type": "markdown",
   "id": "2c336410-b8ec-44ab-b03a-a9ea5b9a0d1e",
   "metadata": {},
   "source": [
    "## Non-trivial curve-fitting: thermal denaturations\n",
    "Click [here](./thermal_denaturation_fitting.ipynb)."
   ]
  },
  {
   "cell_type": "code",
   "execution_count": null,
   "id": "fd5de2b7-34f2-4cd6-887d-dbbab27837f3",
   "metadata": {},
   "outputs": [],
   "source": []
  }
 ],
 "metadata": {
  "kernelspec": {
   "display_name": "Python 3 (ipykernel)",
   "language": "python",
   "name": "python3"
  },
  "language_info": {
   "codemirror_mode": {
    "name": "ipython",
    "version": 3
   },
   "file_extension": ".py",
   "mimetype": "text/x-python",
   "name": "python",
   "nbconvert_exporter": "python",
   "pygments_lexer": "ipython3",
   "version": "3.12.3"
  }
 },
 "nbformat": 4,
 "nbformat_minor": 5
}
