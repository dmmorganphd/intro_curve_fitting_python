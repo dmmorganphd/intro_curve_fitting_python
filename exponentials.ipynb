{
 "cells": [
  {
   "cell_type": "markdown",
   "id": "f19ad152-0cac-4445-8b44-5c82c61e66c6",
   "metadata": {},
   "source": [
    "<font size=\"5\">Exercises fitting exponential decay data</font>"
   ]
  },
  {
   "cell_type": "code",
   "execution_count": 17,
   "id": "ac8cef30-ca1b-44fa-a0c1-990bf8756dc0",
   "metadata": {},
   "outputs": [],
   "source": [
    "import numpy as np\n",
    "import matplotlib.pyplot as plt\n",
    "from matplotlib import gridspec\n",
    "%matplotlib inline \n",
    "from scipy.optimize import curve_fit\n",
    "import os\n",
    "\n",
    "basedir = '/home/david/gh/intro_curve_fitting_python'\n",
    "\n",
    "try:\n",
    "    os.chdir(basedir)\n",
    "except:\n",
    "    print('\\n\\nproblem changing to the directory you specified; does it exist?\\nthe kernel will now restart; rerun this program.\\n\\n')\n",
    "    quit()"
   ]
  },
  {
   "cell_type": "markdown",
   "id": "811db7d8-5398-4c75-93f2-cbe807bd9ee4",
   "metadata": {},
   "source": [
    "In the '.../intro_curve_fitting_python/exponential_data' directory you will find the following files:"
   ]
  },
  {
   "cell_type": "code",
   "execution_count": 18,
   "id": "7001ce39-ad89-4a72-a544-1ed681c1ec21",
   "metadata": {},
   "outputs": [
    {
     "data": {
      "text/plain": [
       "['exponential2.csv', 'exponential3.csv', 'exponential1.csv']"
      ]
     },
     "execution_count": 18,
     "metadata": {},
     "output_type": "execute_result"
    }
   ],
   "source": [
    "filenames = os.listdir(basedir+'/exponential_data/')\n",
    "filenames"
   ]
  },
  {
   "cell_type": "markdown",
   "id": "c9b12886-6ebc-4997-bc07-1950218d9a82",
   "metadata": {},
   "source": [
    "It should not be too difficult to adapt your work from the linear fitting exercises to these data sets.<br><br>To get you started, I will define an appropriate fitting function. Note, however, that you will have to customize it to fit data set 3. If you get stuck with that, check out the [notebook](./generate_datasets.ipynb) with which I created the data, or view it as a [webpage](./generate_datasets.html)."
   ]
  },
  {
   "cell_type": "code",
   "execution_count": 19,
   "id": "f838d1e8-e0be-45f5-bb11-90c43a8464e8",
   "metadata": {},
   "outputs": [],
   "source": [
    "def genexpfunc(x, a, k, c):\n",
    "    return c+a*np.exp(k*x)"
   ]
  },
  {
   "cell_type": "markdown",
   "id": "97eb2406-df5e-4f9c-b38e-37d9c86c4093",
   "metadata": {},
   "source": [
    "<font size=\"5\">Your work here:</font>"
   ]
  },
  {
   "cell_type": "code",
   "execution_count": null,
   "id": "f10871b0-1ce7-4de7-b9dd-e2f1dd7e5160",
   "metadata": {},
   "outputs": [],
   "source": []
  },
  {
   "cell_type": "markdown",
   "id": "2c336410-b8ec-44ab-b03a-a9ea5b9a0d1e",
   "metadata": {},
   "source": [
    "<font size=\"5\">Non-trivial curve-fitting: thermal denaturations</font><br>\n",
    "Click [here](./thermal_denaturation_fitting.ipynb)."
   ]
  },
  {
   "cell_type": "code",
   "execution_count": null,
   "id": "fd5de2b7-34f2-4cd6-887d-dbbab27837f3",
   "metadata": {},
   "outputs": [],
   "source": []
  }
 ],
 "metadata": {
  "kernelspec": {
   "display_name": "Python 3 (ipykernel)",
   "language": "python",
   "name": "python3"
  },
  "language_info": {
   "codemirror_mode": {
    "name": "ipython",
    "version": 3
   },
   "file_extension": ".py",
   "mimetype": "text/x-python",
   "name": "python",
   "nbconvert_exporter": "python",
   "pygments_lexer": "ipython3",
   "version": "3.12.3"
  }
 },
 "nbformat": 4,
 "nbformat_minor": 5
}
